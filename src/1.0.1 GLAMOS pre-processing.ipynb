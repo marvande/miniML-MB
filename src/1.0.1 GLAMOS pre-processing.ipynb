{
 "cells": [
  {
   "cell_type": "markdown",
   "id": "7b299720",
   "metadata": {},
   "source": [
    "# GLAMOS pre-processing:"
   ]
  },
  {
   "cell_type": "markdown",
   "id": "93fb9791",
   "metadata": {},
   "source": [
    "### Imports:"
   ]
  },
  {
   "cell_type": "code",
   "execution_count": 1,
   "id": "a276e54a",
   "metadata": {},
   "outputs": [],
   "source": [
    "import os\n",
    "from os import listdir\n",
    "from os.path import isfile, join\n",
    "import warnings\n",
    "\n",
    "# Import scripts:\n",
    "from scripts.wgs84_ch1903 import *\n",
    "from scripts.xgb_helpers import *\n",
    "from scripts.glamos_preprocess import *\n",
    "from scripts.stakes_processing import *\n",
    "\n",
    "warnings.filterwarnings('ignore')\n",
    "%load_ext autoreload\n",
    "%autoreload 2"
   ]
  },
  {
   "cell_type": "markdown",
   "id": "6aabba6e",
   "metadata": {},
   "source": [
    "## Index files:\n",
    "Index-stake mass balance data. \n",
    "- cumulative mb\n",
    "- mb\n",
    "\n",
    "### Transform MB .dat files to .csv:"
   ]
  },
  {
   "cell_type": "code",
   "execution_count": 2,
   "id": "684da1d4",
   "metadata": {},
   "outputs": [
    {
     "name": "stdout",
     "output_type": "stream",
     "text": [
      "Index stake raw files:\n",
      " ['limmern_P3_mb.dat', 'aletsch_P9_mb.dat', 'silvretta_BU_mb.dat', 'findelen_400_mb.dat', 'murtel_P3_mb.dat']\n"
     ]
    },
    {
     "data": {
      "text/html": [
       "<div>\n",
       "<style scoped>\n",
       "    .dataframe tbody tr th:only-of-type {\n",
       "        vertical-align: middle;\n",
       "    }\n",
       "\n",
       "    .dataframe tbody tr th {\n",
       "        vertical-align: top;\n",
       "    }\n",
       "\n",
       "    .dataframe thead th {\n",
       "        text-align: right;\n",
       "    }\n",
       "</style>\n",
       "<table border=\"1\" class=\"dataframe\">\n",
       "  <thead>\n",
       "    <tr style=\"text-align: right;\">\n",
       "      <th></th>\n",
       "      <th># id</th>\n",
       "      <th>date0</th>\n",
       "      <th>date_fmeas</th>\n",
       "      <th>date_fmin</th>\n",
       "      <th>date_smeas</th>\n",
       "      <th>date_smax</th>\n",
       "      <th>date1</th>\n",
       "      <th>x</th>\n",
       "      <th>y</th>\n",
       "      <th>z</th>\n",
       "      <th>...</th>\n",
       "      <th>c_w_obs</th>\n",
       "      <th>a_w_obs</th>\n",
       "      <th>c_a_obs</th>\n",
       "      <th>a_a_obs</th>\n",
       "      <th>b_w_fix</th>\n",
       "      <th>b_a_fix</th>\n",
       "      <th>c_w_fix</th>\n",
       "      <th>a_w_fix</th>\n",
       "      <th>c_a_fix</th>\n",
       "      <th>a_a_fix</th>\n",
       "    </tr>\n",
       "  </thead>\n",
       "  <tbody>\n",
       "    <tr>\n",
       "      <th>0</th>\n",
       "      <td>0</td>\n",
       "      <td>19201001</td>\n",
       "      <td>1001</td>\n",
       "      <td>810</td>\n",
       "      <td>430</td>\n",
       "      <td>528</td>\n",
       "      <td>19210930</td>\n",
       "      <td>644570</td>\n",
       "      <td>156375</td>\n",
       "      <td>3445.3</td>\n",
       "      <td>...</td>\n",
       "      <td>775</td>\n",
       "      <td>-16</td>\n",
       "      <td>1919</td>\n",
       "      <td>-614</td>\n",
       "      <td>759</td>\n",
       "      <td>1304</td>\n",
       "      <td>775</td>\n",
       "      <td>-16</td>\n",
       "      <td>1919</td>\n",
       "      <td>-614</td>\n",
       "    </tr>\n",
       "    <tr>\n",
       "      <th>1</th>\n",
       "      <td>0</td>\n",
       "      <td>19211001</td>\n",
       "      <td>1001</td>\n",
       "      <td>812</td>\n",
       "      <td>430</td>\n",
       "      <td>519</td>\n",
       "      <td>19220930</td>\n",
       "      <td>644570</td>\n",
       "      <td>156375</td>\n",
       "      <td>3445.0</td>\n",
       "      <td>...</td>\n",
       "      <td>2399</td>\n",
       "      <td>-33</td>\n",
       "      <td>3962</td>\n",
       "      <td>-369</td>\n",
       "      <td>2365</td>\n",
       "      <td>3592</td>\n",
       "      <td>2399</td>\n",
       "      <td>-33</td>\n",
       "      <td>3962</td>\n",
       "      <td>-369</td>\n",
       "    </tr>\n",
       "  </tbody>\n",
       "</table>\n",
       "<p>2 rows × 22 columns</p>\n",
       "</div>"
      ],
      "text/plain": [
       "   # id     date0  date_fmeas  date_fmin  date_smeas  date_smax     date1  \\\n",
       "0     0  19201001        1001        810         430        528  19210930   \n",
       "1     0  19211001        1001        812         430        519  19220930   \n",
       "\n",
       "        x       y       z  ...  c_w_obs  a_w_obs  c_a_obs  a_a_obs  b_w_fix  \\\n",
       "0  644570  156375  3445.3  ...      775      -16     1919     -614      759   \n",
       "1  644570  156375  3445.0  ...     2399      -33     3962     -369     2365   \n",
       "\n",
       "   b_a_fix  c_w_fix  a_w_fix  c_a_fix  a_a_fix  \n",
       "0     1304      775      -16     1919     -614  \n",
       "1     3592     2399      -33     3962     -369  \n",
       "\n",
       "[2 rows x 22 columns]"
      ]
     },
     "execution_count": 2,
     "metadata": {},
     "output_type": "execute_result"
    }
   ],
   "source": [
    "# Get all files (only mass balance not cumulative):\n",
    "glamosfiles_mb = []\n",
    "for file in os.listdir(path_index_raw):\n",
    "    # check if current path is a file\n",
    "    if os.path.isfile(os.path.join(path_index_raw, file)):\n",
    "        if file[-6:] == 'mb.dat':\n",
    "            glamosfiles_mb.append(file)\n",
    "print('Index stake raw files:\\n', glamosfiles_mb[:5])\n",
    "\n",
    "# Transform all files to csv\n",
    "RUN = True\n",
    "if RUN:\n",
    "    emptyfolder(path_GLAMOS_csv)\n",
    "    for file in glamosfiles_mb:\n",
    "        fileName = file[:-4]\n",
    "        processDatFile(fileName, path_index_raw, path_GLAMOS_csv)\n",
    "\n",
    "# test:\n",
    "fileName = 'aletsch_P11_mb.csv'\n",
    "aletsch_csv = pd.read_csv(path_GLAMOS_csv + fileName, sep=',', header=0)\n",
    "aletsch_csv.head(2)"
   ]
  },
  {
   "cell_type": "markdown",
   "id": "afac5a2b",
   "metadata": {},
   "source": [
    "### Measurement ids:\n",
    "There are different ids depending on the method of analysis/evaluation:\n",
    "- 0 : no measurements, only model results\n",
    "- 1 : analysis of seasonal stake observations   (b_w & b_a)\n",
    "- 2 : analysis of annual stake observations but not close to the end of the\n",
    "         period   (b_w)\n",
    "- 3 : analysis of annual stake observations   (b_a)"
   ]
  },
  {
   "cell_type": "code",
   "execution_count": 3,
   "id": "eb354b86",
   "metadata": {},
   "outputs": [
    {
     "data": {
      "text/plain": [
       "{'basodino': array([1, 2, 1, 1, 2]),\n",
       " 'sanktanna': array([1]),\n",
       " 'findelen': array([2, 3, 1, 1, 3, 2, 2, 3, 1, 1, 3, 2]),\n",
       " 'adler': array([3, 1]),\n",
       " 'tsanfleuron': array([1, 2, 0, 1, 3]),\n",
       " 'gries': array([3, 1, 3, 1]),\n",
       " 'rhone': array([1, 3, 1, 1]),\n",
       " 'schwarzberg': array([1, 0, 2, 3]),\n",
       " 'aletsch': array([1, 2, 0, 0, 1, 2, 3, 0, 1, 2, 0, 1, 2, 3, 3, 0, 1, 2]),\n",
       " 'limmern': array([3, 0, 1, 3, 0, 1, 3, 0, 1]),\n",
       " 'pizol': array([1, 2, 1]),\n",
       " 'plainemorte': array([1]),\n",
       " 'clariden': array([1, 0, 3, 0, 3, 1]),\n",
       " 'allalin': array([1, 3, 2]),\n",
       " 'silvretta': array([2, 0, 1, 3, 0, 2, 1, 3, 0, 3, 1]),\n",
       " 'hohlaub': array([1, 0, 2, 3]),\n",
       " 'pers': array([3, 0, 1, 3, 1]),\n",
       " 'murtel': array([1, 1]),\n",
       " 'corbassiere': array([3]),\n",
       " 'plattalva': array([3, 0, 1, 3, 0, 1]),\n",
       " 'gietro': array([3, 0, 1, 3, 0, 3, 0])}"
      ]
     },
     "execution_count": 3,
     "metadata": {},
     "output_type": "execute_result"
    }
   ],
   "source": [
    "# check ID of glaciers:\n",
    "ids_ = {}\n",
    "for file in os.listdir(path_GLAMOS_csv):\n",
    "    gl = file.split('_')[0]\n",
    "    df = pd.read_csv(path_GLAMOS_csv + file, sep=',', header=0)\n",
    "    if gl not in ids_.keys():\n",
    "        ids_[gl] = df['# id'].unique()\n",
    "    else:\n",
    "        ids_[gl] = np.concatenate([df['# id'].unique(), ids_[gl]])\n",
    "ids_"
   ]
  },
  {
   "cell_type": "markdown",
   "id": "f5078183",
   "metadata": {},
   "source": [
    "### Number of stakes per glacier:"
   ]
  },
  {
   "cell_type": "code",
   "execution_count": 4,
   "id": "298a64ab",
   "metadata": {},
   "outputs": [
    {
     "data": {
      "text/plain": [
       "[('sanktanna', 1),\n",
       " ('adler', 1),\n",
       " ('schwarzberg', 1),\n",
       " ('plainemorte', 1),\n",
       " ('allalin', 1),\n",
       " ('hohlaub', 1),\n",
       " ('corbassiere', 1),\n",
       " ('tsanfleuron', 2),\n",
       " ('gries', 2),\n",
       " ('pizol', 2),\n",
       " ('clariden', 2),\n",
       " ('pers', 2),\n",
       " ('murtel', 2),\n",
       " ('plattalva', 2),\n",
       " ('basodino', 3),\n",
       " ('rhone', 3),\n",
       " ('limmern', 3),\n",
       " ('silvretta', 3),\n",
       " ('gietro', 3),\n",
       " ('findelen', 4),\n",
       " ('aletsch', 6)]"
      ]
     },
     "execution_count": 4,
     "metadata": {},
     "output_type": "execute_result"
    }
   ],
   "source": [
    "onlyfiles = [\n",
    "    f for f in listdir(path_GLAMOS_csv) if isfile(join(path_GLAMOS_csv, f))\n",
    "]\n",
    "glStakesNum = {}\n",
    "glStakes = {}\n",
    "for f in onlyfiles:\n",
    "    gl = f.split('_')[0]\n",
    "    if gl not in glStakesNum.keys():\n",
    "        glStakesNum[gl] = 1\n",
    "        glStakes[gl] = [f]\n",
    "    else:\n",
    "        glStakesNum[gl] = glStakesNum[gl] + 1\n",
    "        glStakes[gl].append(f)\n",
    "glStakes_sorted = sorted(glStakesNum.items(), key=lambda x: x[1])\n",
    "glStakes_sorted"
   ]
  },
  {
   "cell_type": "markdown",
   "id": "acc66ac1",
   "metadata": {},
   "source": [
    "### Transform dates and add other Ids:\n",
    "Transform from strings to pandas datetime format and add GLIMS, RGI and SGI ids."
   ]
  },
  {
   "cell_type": "code",
   "execution_count": 6,
   "id": "c6383153",
   "metadata": {},
   "outputs": [
    {
     "data": {
      "text/html": [
       "<div>\n",
       "<style scoped>\n",
       "    .dataframe tbody tr th:only-of-type {\n",
       "        vertical-align: middle;\n",
       "    }\n",
       "\n",
       "    .dataframe tbody tr th {\n",
       "        vertical-align: top;\n",
       "    }\n",
       "\n",
       "    .dataframe thead th {\n",
       "        text-align: right;\n",
       "    }\n",
       "</style>\n",
       "<table border=\"1\" class=\"dataframe\">\n",
       "  <thead>\n",
       "    <tr style=\"text-align: right;\">\n",
       "      <th></th>\n",
       "      <th>sgi-id</th>\n",
       "      <th>GLIMSId</th>\n",
       "      <th>rgi_id</th>\n",
       "    </tr>\n",
       "    <tr>\n",
       "      <th>glacier_name</th>\n",
       "      <th></th>\n",
       "      <th></th>\n",
       "      <th></th>\n",
       "    </tr>\n",
       "  </thead>\n",
       "  <tbody>\n",
       "    <tr>\n",
       "      <th>basodino</th>\n",
       "      <td>C14-10</td>\n",
       "      <td>G008475E46414N</td>\n",
       "      <td>RGI60-11.01987</td>\n",
       "    </tr>\n",
       "    <tr>\n",
       "      <th>sanktanna</th>\n",
       "      <td>A51e-12</td>\n",
       "      <td>G008601E46597N</td>\n",
       "      <td>RGI60-11.01367</td>\n",
       "    </tr>\n",
       "  </tbody>\n",
       "</table>\n",
       "</div>"
      ],
      "text/plain": [
       "               sgi-id        GLIMSId           rgi_id\n",
       "glacier_name                                         \n",
       "basodino       C14-10  G008475E46414N  RGI60-11.01987\n",
       "sanktanna     A51e-12  G008601E46597N  RGI60-11.01367"
      ]
     },
     "execution_count": 6,
     "metadata": {},
     "output_type": "execute_result"
    }
   ],
   "source": [
    "# Read rgi ids:\n",
    "path_rgi = '../../data/MB_modeling/GLAMOS/CH_glacier_ids.csv'\n",
    "rgi_df = pd.read_csv(path_rgi, sep=',').drop(['Unnamed: 4'], axis=1)\n",
    "rgi_df.set_index('glacier_name', inplace=True)\n",
    "rgi_df.head(2)"
   ]
  },
  {
   "cell_type": "code",
   "execution_count": 8,
   "id": "1c2c54a8",
   "metadata": {},
   "outputs": [],
   "source": [
    "# For now, MB is in xy coordinates:\n",
    "path_xycoord = '../../data/MB_modeling/GLAMOS/index/csv_files/massbalance/xycoord/'\n",
    "RUN = False\n",
    "if RUN:\n",
    "    emptyfolder(path_xycoord)\n",
    "    for key in glStakes.keys():\n",
    "        for fileName in glStakes[key]:\n",
    "            df = pd.read_csv(path_GLAMOS_csv + fileName, sep=',', header=0)\n",
    "            df_processed = transformDates(df)\n",
    "            # remove obvious duplicates:\n",
    "            df_processed = df_processed.drop_duplicates()\n",
    "            # remove less obvious:\n",
    "            df_processed = remove_dupl_years(df_processed)\n",
    "\n",
    "            # Add rgi and glims id:\n",
    "            df_processed.rename(columns={'# id': 'meas_id'}, inplace=True)\n",
    "            glName = re.split('_', fileName)[0]\n",
    "            sgi_id, glims_id, rgi_id = rgi_df.loc[glName].values\n",
    "            df_processed['sgi_id'] = [sgi_id for i in range(len(df_processed))]\n",
    "            df_processed['glims_id'] = [\n",
    "                glims_id for i in range(len(df_processed))\n",
    "            ]\n",
    "            df_processed['rgi_id'] = [rgi_id for i in range(len(df_processed))]\n",
    "\n",
    "            # add vaw id:\n",
    "            df_processed['vaw_id'] = df['# id']\n",
    "            # save to csv:\n",
    "            df_processed.to_csv(path_xycoord + fileName)"
   ]
  },
  {
   "cell_type": "code",
   "execution_count": 9,
   "id": "f367a64d",
   "metadata": {},
   "outputs": [
    {
     "data": {
      "text/plain": [
       "<Axes: xlabel='date0'>"
      ]
     },
     "execution_count": 9,
     "metadata": {},
     "output_type": "execute_result"
    },
    {
     "data": {
      "image/png": "[encoded data removed]",
      "text/plain": [
       "<Figure size 640x480 with 1 Axes>"
      ]
     },
     "metadata": {},
     "output_type": "display_data"
    }
   ],
   "source": [
    "# Example:\n",
    "fileName = 'clariden_U_mb.csv'\n",
    "dfStake = pd.read_csv(path_xycoord + fileName, sep=',', header=0)\n",
    "dfStake.sort_values(by='date0').plot(x='date0', y='b_a_fix')"
   ]
  },
  {
   "cell_type": "markdown",
   "id": "a1ce92bb",
   "metadata": {},
   "source": [
    "### Transform coordinates to lat/lon (from swiss system):"
   ]
  },
  {
   "cell_type": "code",
   "execution_count": 10,
   "id": "efca2238",
   "metadata": {},
   "outputs": [
    {
     "data": {
      "text/html": [
       "<div>\n",
       "<style scoped>\n",
       "    .dataframe tbody tr th:only-of-type {\n",
       "        vertical-align: middle;\n",
       "    }\n",
       "\n",
       "    .dataframe tbody tr th {\n",
       "        vertical-align: top;\n",
       "    }\n",
       "\n",
       "    .dataframe thead th {\n",
       "        text-align: right;\n",
       "    }\n",
       "</style>\n",
       "<table border=\"1\" class=\"dataframe\">\n",
       "  <thead>\n",
       "    <tr style=\"text-align: right;\">\n",
       "      <th></th>\n",
       "      <th>Unnamed: 0.1</th>\n",
       "      <th>Unnamed: 0</th>\n",
       "      <th>meas_id</th>\n",
       "      <th>date0</th>\n",
       "      <th>date_fmeas</th>\n",
       "      <th>date_fmin</th>\n",
       "      <th>date_smeas</th>\n",
       "      <th>date_smax</th>\n",
       "      <th>date1</th>\n",
       "      <th>b_w_meas</th>\n",
       "      <th>...</th>\n",
       "      <th>a_a_fix</th>\n",
       "      <th>date_fix0</th>\n",
       "      <th>date_fix1</th>\n",
       "      <th>sgi_id</th>\n",
       "      <th>glims_id</th>\n",
       "      <th>rgi_id</th>\n",
       "      <th>vaw_id</th>\n",
       "      <th>lat</th>\n",
       "      <th>lon</th>\n",
       "      <th>height</th>\n",
       "    </tr>\n",
       "  </thead>\n",
       "  <tbody>\n",
       "    <tr>\n",
       "      <th>0</th>\n",
       "      <td>0</td>\n",
       "      <td>0</td>\n",
       "      <td>3</td>\n",
       "      <td>1995-10-12</td>\n",
       "      <td>1995-10-01</td>\n",
       "      <td>1995-11-17</td>\n",
       "      <td>1996-04-30</td>\n",
       "      <td>1996-04-19</td>\n",
       "      <td>1996-10-11</td>\n",
       "      <td>-1110</td>\n",
       "      <td>...</td>\n",
       "      <td>-10195</td>\n",
       "      <td>1995-10-01</td>\n",
       "      <td>1996-09-30</td>\n",
       "      <td>B36-26</td>\n",
       "      <td>G008032E46504N</td>\n",
       "      <td>RGI60-11.01450</td>\n",
       "      <td>3</td>\n",
       "      <td>46.413308</td>\n",
       "      <td>8.054188</td>\n",
       "      <td>2089.502943</td>\n",
       "    </tr>\n",
       "    <tr>\n",
       "      <th>1</th>\n",
       "      <td>1</td>\n",
       "      <td>1</td>\n",
       "      <td>3</td>\n",
       "      <td>1996-10-11</td>\n",
       "      <td>1996-10-01</td>\n",
       "      <td>1996-11-13</td>\n",
       "      <td>1997-04-30</td>\n",
       "      <td>1997-02-19</td>\n",
       "      <td>1997-10-09</td>\n",
       "      <td>-271</td>\n",
       "      <td>...</td>\n",
       "      <td>-11996</td>\n",
       "      <td>1996-10-01</td>\n",
       "      <td>1997-09-30</td>\n",
       "      <td>B36-26</td>\n",
       "      <td>G008032E46504N</td>\n",
       "      <td>RGI60-11.01450</td>\n",
       "      <td>3</td>\n",
       "      <td>46.413308</td>\n",
       "      <td>8.054188</td>\n",
       "      <td>2089.202943</td>\n",
       "    </tr>\n",
       "  </tbody>\n",
       "</table>\n",
       "<p>2 rows × 30 columns</p>\n",
       "</div>"
      ],
      "text/plain": [
       "   Unnamed: 0.1  Unnamed: 0  meas_id       date0  date_fmeas   date_fmin  \\\n",
       "0             0           0        3  1995-10-12  1995-10-01  1995-11-17   \n",
       "1             1           1        3  1996-10-11  1996-10-01  1996-11-13   \n",
       "\n",
       "   date_smeas   date_smax       date1  b_w_meas  ...  a_a_fix   date_fix0  \\\n",
       "0  1996-04-30  1996-04-19  1996-10-11     -1110  ...   -10195  1995-10-01   \n",
       "1  1997-04-30  1997-02-19  1997-10-09      -271  ...   -11996  1996-10-01   \n",
       "\n",
       "    date_fix1  sgi_id        glims_id          rgi_id  vaw_id        lat  \\\n",
       "0  1996-09-30  B36-26  G008032E46504N  RGI60-11.01450       3  46.413308   \n",
       "1  1997-09-30  B36-26  G008032E46504N  RGI60-11.01450       3  46.413308   \n",
       "\n",
       "        lon       height  \n",
       "0  8.054188  2089.502943  \n",
       "1  8.054188  2089.202943  \n",
       "\n",
       "[2 rows x 30 columns]"
      ]
     },
     "execution_count": 10,
     "metadata": {},
     "output_type": "execute_result"
    }
   ],
   "source": [
    "path_latloncoord = '../../data/MB_modeling/GLAMOS/index/csv_files/massbalance/WGSlatloncoord/'\n",
    "RUN = True\n",
    "if RUN:\n",
    "    # First empty folder\n",
    "    emptyfolder(path_latloncoord)\n",
    "    # Convert to lat/lon\n",
    "    for key in glStakes.keys():\n",
    "        for fileName in glStakes[key]:\n",
    "            df = pd.read_csv(path_xycoord + fileName, sep=',', header=0)\n",
    "            df_processed = LV03toWGS84(df)\n",
    "            df_processed.to_csv(path_latloncoord + fileName)\n",
    "# Example:  \n",
    "fileName = 'aletsch_P0_mb.csv'\n",
    "df = pd.read_csv(path_latloncoord + fileName, sep=',', header=0)\n",
    "df.head(2)"
   ]
  }
 ],
 "metadata": {
  "kernelspec": {
   "display_name": "Python 3 (ipykernel)",
   "language": "python",
   "name": "python3"
  },
  "language_info": {
   "codemirror_mode": {
    "name": "ipython",
    "version": 3
   },
   "file_extension": ".py",
   "mimetype": "text/x-python",
   "name": "python",
   "nbconvert_exporter": "python",
   "pygments_lexer": "ipython3",
   "version": "3.8.16"
  },
  "toc": {
   "base_numbering": 1,
   "nav_menu": {},
   "number_sections": true,
   "sideBar": true,
   "skip_h1_title": false,
   "title_cell": "Table of Contents",
   "title_sidebar": "Contents",
   "toc_cell": false,
   "toc_position": {
    "height": "calc(100% - 180px)",
    "left": "10px",
    "top": "150px",
    "width": "322.891px"
   },
   "toc_section_display": true,
   "toc_window_display": true
  }
 },
 "nbformat": 4,
 "nbformat_minor": 5
}
