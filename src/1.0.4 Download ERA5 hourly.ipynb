{
 "cells": [
  {
   "cell_type": "markdown",
   "id": "2db3b499",
   "metadata": {},
   "source": [
    "## Setting up:"
   ]
  },
  {
   "cell_type": "markdown",
   "id": "3a3ae31b",
   "metadata": {},
   "source": [
    "### Imports:"
   ]
  },
  {
   "cell_type": "code",
   "execution_count": 5,
   "id": "c234b376",
   "metadata": {},
   "outputs": [
    {
     "name": "stdout",
     "output_type": "stream",
     "text": [
      "The autoreload extension is already loaded. To reload it, use:\n",
      "  %reload_ext autoreload\n"
     ]
    }
   ],
   "source": [
    "import os\n",
    "from tqdm.notebook import tqdm\n",
    "import re\n",
    "import warnings\n",
    "import re\n",
    "import calendar\n",
    "import cdsapi\n",
    "import zipfile\n",
    "\n",
    "warnings.filterwarnings(\"ignore\")\n",
    "\n",
    "from scripts.xgb_helpers import *\n",
    "# from scripts.xgb_input import *\n",
    "# from scripts.xgb_model import *\n",
    "# from scripts.plots_clean import *\n",
    "# from scripts.xgb_metrics import *\n",
    "\n",
    "%load_ext autoreload\n",
    "%autoreload 2"
   ]
  },
  {
   "cell_type": "markdown",
   "id": "225014a2",
   "metadata": {},
   "source": [
    "## Hourly data:"
   ]
  },
  {
   "cell_type": "code",
   "execution_count": 4,
   "id": "142d10ea",
   "metadata": {},
   "outputs": [],
   "source": [
    "path_save_era5hourly = '../../data/MB_modeling/ERA5/ERA5-Land-hourly/'"
   ]
  },
  {
   "cell_type": "markdown",
   "id": "b7697ece",
   "metadata": {},
   "source": [
    "### Net solar radiation:"
   ]
  },
  {
   "cell_type": "code",
   "execution_count": 6,
   "id": "216053e4",
   "metadata": {},
   "outputs": [],
   "source": [
    "RUN = False\n",
    "if RUN:\n",
    "    for year in tqdm(range(1950, 2022, 1), desc='years', position = 0):\n",
    "        for month in tqdm(range(1, 13, 1), desc='months', position=1, leave=False):\n",
    "            num_days = calendar.monthrange(year, month)[1]\n",
    "            str_days = [makeStr(day) for day in range(1,num_days+1,1)]\n",
    "            c = cdsapi.Client()\n",
    "\n",
    "            c.retrieve(\n",
    "                'reanalysis-era5-land', {\n",
    "                    'variable':\n",
    "                    'surface_net_solar_radiation',\n",
    "                    'year':\n",
    "                    str(year),\n",
    "                    'month':\n",
    "                    makeStr(month),\n",
    "                    'day':\n",
    "                    str_days,\n",
    "                    'time': [\n",
    "                        '00:00',\n",
    "                        '01:00',\n",
    "                        '02:00',\n",
    "                        '03:00',\n",
    "                        '04:00',\n",
    "                        '05:00',\n",
    "                        '06:00',\n",
    "                        '07:00',\n",
    "                        '08:00',\n",
    "                        '09:00',\n",
    "                        '10:00',\n",
    "                        '11:00',\n",
    "                        '12:00',\n",
    "                        '13:00',\n",
    "                        '14:00',\n",
    "                        '15:00',\n",
    "                        '16:00',\n",
    "                        '17:00',\n",
    "                        '18:00',\n",
    "                        '19:00',\n",
    "                        '20:00',\n",
    "                        '21:00',\n",
    "                        '22:00',\n",
    "                        '23:00',\n",
    "                    ],\n",
    "                    'area': [\n",
    "                        50,\n",
    "                        0,\n",
    "                        45,\n",
    "                        20,\n",
    "                    ],\n",
    "                    'format':\n",
    "                    'netcdf.zip',\n",
    "                }, path_save_era5hourly+f'ssr/ssr-{str(year)}-{makeStr(month)}.netcdf.zip')"
   ]
  },
  {
   "cell_type": "markdown",
   "id": "e4314524",
   "metadata": {},
   "source": [
    "### Total precipitation:"
   ]
  },
  {
   "cell_type": "code",
   "execution_count": 7,
   "id": "09862536",
   "metadata": {},
   "outputs": [],
   "source": [
    "RUN = False\n",
    "if RUN:\n",
    "    for year in tqdm(range(1950, 2022, 1), desc='years', position = 0):\n",
    "        for month in tqdm(range(1, 13, 1), desc='months', position=1, leave=False):\n",
    "            num_days = calendar.monthrange(year, month)[1]\n",
    "            str_days = [makeStr(day) for day in range(1,num_days+1,1)]\n",
    "            c = cdsapi.Client()\n",
    "\n",
    "            c.retrieve(\n",
    "                'reanalysis-era5-land', {\n",
    "                    'variable':\n",
    "                    'total_precipitation',\n",
    "                    'year':\n",
    "                    str(year),\n",
    "                    'month':\n",
    "                    makeStr(month),\n",
    "                    'day':\n",
    "                    str_days,\n",
    "                    'time': [\n",
    "                        '00:00',\n",
    "                        '01:00',\n",
    "                        '02:00',\n",
    "                        '03:00',\n",
    "                        '04:00',\n",
    "                        '05:00',\n",
    "                        '06:00',\n",
    "                        '07:00',\n",
    "                        '08:00',\n",
    "                        '09:00',\n",
    "                        '10:00',\n",
    "                        '11:00',\n",
    "                        '12:00',\n",
    "                        '13:00',\n",
    "                        '14:00',\n",
    "                        '15:00',\n",
    "                        '16:00',\n",
    "                        '17:00',\n",
    "                        '18:00',\n",
    "                        '19:00',\n",
    "                        '20:00',\n",
    "                        '21:00',\n",
    "                        '22:00',\n",
    "                        '23:00',\n",
    "                    ],\n",
    "                    'area': [\n",
    "                        50,\n",
    "                        0,\n",
    "                        45,\n",
    "                        20,\n",
    "                    ],\n",
    "                    'format':\n",
    "                    'netcdf.zip',\n",
    "                }, path_save_era5hourly+f'tp/tp-{str(year)}-{makeStr(month)}.netcdf.zip')"
   ]
  },
  {
   "cell_type": "markdown",
   "id": "c5be5c35",
   "metadata": {},
   "source": [
    "### 2m Temperature:"
   ]
  },
  {
   "cell_type": "code",
   "execution_count": 8,
   "id": "2f63c630",
   "metadata": {
    "scrolled": false
   },
   "outputs": [],
   "source": [
    "RUN = False\n",
    "if RUN:\n",
    "    for year in tqdm(range(1950, 1959, 1), desc='years', position = 0):\n",
    "        for month in tqdm(range(1, 13, 1), desc='months', position=1, leave=False):\n",
    "            num_days = calendar.monthrange(year, month)[1]\n",
    "            str_days = [makeStr(day) for day in range(1,num_days+1,1)]\n",
    "            c = cdsapi.Client()\n",
    "            c.retrieve(\n",
    "                'reanalysis-era5-land', {\n",
    "                    'variable':\n",
    "                    '2m_temperature',\n",
    "                    'year':\n",
    "                    str(year),\n",
    "                    'month':\n",
    "                    makeStr(month),\n",
    "                    'day':\n",
    "                    str_days,\n",
    "                    'time': [\n",
    "                        '00:00',\n",
    "                        '01:00',\n",
    "                        '02:00',\n",
    "                        '03:00',\n",
    "                        '04:00',\n",
    "                        '05:00',\n",
    "                        '06:00',\n",
    "                        '07:00',\n",
    "                        '08:00',\n",
    "                        '09:00',\n",
    "                        '10:00',\n",
    "                        '11:00',\n",
    "                        '12:00',\n",
    "                        '13:00',\n",
    "                        '14:00',\n",
    "                        '15:00',\n",
    "                        '16:00',\n",
    "                        '17:00',\n",
    "                        '18:00',\n",
    "                        '19:00',\n",
    "                        '20:00',\n",
    "                        '21:00',\n",
    "                        '22:00',\n",
    "                        '23:00',\n",
    "                    ],\n",
    "                    'area': [\n",
    "                        50,\n",
    "                        0,\n",
    "                        45,\n",
    "                        20,\n",
    "                    ],\n",
    "                    'format':\n",
    "                    'netcdf.zip',\n",
    "                }, path_save_era5hourly+f't2m/t2m-{str(year)}-{makeStr(month)}.netcdf.zip')"
   ]
  },
  {
   "cell_type": "code",
   "execution_count": 9,
   "id": "a4b63f51",
   "metadata": {},
   "outputs": [
    {
     "data": {
      "application/vnd.jupyter.widget-view+json": {
       "model_id": "cd6bc79d08f94a469dab8619694e4a8a",
       "version_major": 2,
       "version_minor": 0
      },
      "text/plain": [
       "zip files: 0it [00:00, ?it/s]"
      ]
     },
     "metadata": {},
     "output_type": "display_data"
    }
   ],
   "source": [
    "# unzip files\n",
    "path_save_nc = '../../data/MB_modeling/ERA5/ERA5-Land-hourly/ncfiles/'\n",
    "zipfiles  = [f for f  in os.listdir('../../data/MB_modeling/ERA5/ERA5-Land-hourly/') if f[-3:]=='zip']\n",
    "for file in tqdm(zipfiles, desc = 'zip files'):\n",
    "    with zipfile.ZipFile(\n",
    "            '../../data/MB_modeling/ERA5/ERA5-Land-hourly/' + file,\n",
    "            'r') as zip_ref:\n",
    "        zip_ref.extractall(path_save_nc)\n",
    "        new_name = re.split('.netcdf.zip', file)[0]\n",
    "        os.rename(path_save_nc+'data.nc', path_save_nc+new_name + '.nc')"
   ]
  },
  {
   "cell_type": "markdown",
   "id": "63d3dcd0",
   "metadata": {},
   "source": [
    "### Monthly temperature at different pressure levels:"
   ]
  },
  {
   "cell_type": "code",
   "execution_count": 10,
   "id": "d43c5f83",
   "metadata": {},
   "outputs": [],
   "source": [
    "path_save_ERA5plevles= '../../data/MB_modeling/ERA5/'\n",
    "RUN = False\n",
    "if RUN:\n",
    "    c = cdsapi.Client()\n",
    "    c.retrieve(\n",
    "        'reanalysis-era5-pressure-levels-monthly-means',\n",
    "        {\n",
    "            'product_type': 'monthly_averaged_reanalysis',\n",
    "            'variable': [\n",
    "                'geopotential', 'temperature',\n",
    "            ],\n",
    "            'pressure_level': [\n",
    "                '500', '550', '600',\n",
    "                '650', '700', '750',\n",
    "                '775', '800', '825',\n",
    "                '850', '875', '900',\n",
    "                '925', '950', '975',\n",
    "                '1000',\n",
    "            ],\n",
    "            'year': [\n",
    "                '1950', '1951', '1952',\n",
    "                '1953', '1954', '1955',\n",
    "                '1956', '1957', '1958',\n",
    "                '1959', '1960', '1961',\n",
    "                '1962', '1963', '1964',\n",
    "                '1965', '1966', '1967',\n",
    "                '1968', '1969', '1970',\n",
    "                '1971', '1972', '1973',\n",
    "                '1974', '1975', '1976',\n",
    "                '1977', '1978', '1979',\n",
    "                '1980', '1981', '1982',\n",
    "                '1983', '1984', '1985',\n",
    "                '1986', '1987', '1988',\n",
    "                '1989', '1990', '1991',\n",
    "                '1992', '1993', '1994',\n",
    "                '1995', '1996', '1997',\n",
    "                '1998', '1999', '2000',\n",
    "                '2001', '2002', '2003',\n",
    "                '2004', '2005', '2006',\n",
    "                '2007', '2008', '2009',\n",
    "                '2010', '2011', '2012',\n",
    "                '2013', '2014', '2015',\n",
    "                '2016', '2017', '2018',\n",
    "                '2019', '2020', '2021',\n",
    "                '2022', '2023',\n",
    "            ],\n",
    "            'month': [\n",
    "                '01', '02', '03',\n",
    "                '04', '05', '06',\n",
    "                '07', '08', '09',\n",
    "                '10', '11', '12',\n",
    "            ],\n",
    "            'time': '00:00',\n",
    "            'area': [\n",
    "                50, 0, 45,\n",
    "                20,\n",
    "            ],\n",
    "            'format': 'netcdf',\n",
    "        },\n",
    "        path_save_ERA5plevles+f'era5-monthly-t2m-geopot-plevels.nc')"
   ]
  },
  {
   "cell_type": "code",
   "execution_count": null,
   "id": "0a45e495",
   "metadata": {},
   "outputs": [],
   "source": []
  }
 ],
 "metadata": {
  "kernelspec": {
   "display_name": "Python 3 (ipykernel)",
   "language": "python",
   "name": "python3"
  },
  "language_info": {
   "codemirror_mode": {
    "name": "ipython",
    "version": 3
   },
   "file_extension": ".py",
   "mimetype": "text/x-python",
   "name": "python",
   "nbconvert_exporter": "python",
   "pygments_lexer": "ipython3",
   "version": "3.8.16"
  },
  "toc": {
   "base_numbering": 1,
   "nav_menu": {},
   "number_sections": true,
   "sideBar": true,
   "skip_h1_title": false,
   "title_cell": "Table of Contents",
   "title_sidebar": "Contents",
   "toc_cell": false,
   "toc_position": {
    "height": "calc(100% - 180px)",
    "left": "10px",
    "top": "150px",
    "width": "300.797px"
   },
   "toc_section_display": true,
   "toc_window_display": true
  }
 },
 "nbformat": 4,
 "nbformat_minor": 5
}
